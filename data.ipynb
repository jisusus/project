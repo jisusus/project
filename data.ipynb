{
 "cells": [
  {
   "cell_type": "code",
   "execution_count": 1,
   "metadata": {},
   "outputs": [],
   "source": [
    "def load_raw_data(fname):\n",
    "    instances = []\n",
    "    labels = []\n",
    "    with open(fname, \"r\") as f:\n",
    "        f.readline()\n",
    "        for line in f:\n",
    "            tmp = line.strip().split(\", \")\n",
    "            tmp[1] = float(tmp[1])\n",
    "            tmp[2] = float(tmp[2])\n",
    "            tmp[3] = float(tmp[3])\n",
    "            tmp[4] = float(tmp[4])\n",
    "            tmp[5] = int(tmp[5])\n",
    "            tmp[6] = int(tmp[6])\n",
    "            tmp[7] = float(tmp[7])\n",
    "            tmp[8] = int(tmp[8])\n",
    "            instances.append(tmp[:-1])\n",
    "            labels.append(tmp[-1])\n",
    "    return instances, labels"
   ]
  },
  {
   "cell_type": "code",
   "execution_count": 2,
   "metadata": {},
   "outputs": [],
   "source": [
    "tr_instances, tr_labels = load_raw_data(\"training.csv\")"
   ]
  },
  {
   "cell_type": "code",
   "execution_count": 3,
   "metadata": {},
   "outputs": [],
   "source": [
    "te_instances, te_labels = load_raw_data(\"testing.csv\")"
   ]
  },
  {
   "cell_type": "code",
   "execution_count": 4,
   "metadata": {},
   "outputs": [],
   "source": [
    "def extract_second_elements(nested_list, i):\n",
    "    return [inner_list[i] for inner_list in nested_list]"
   ]
  },
  {
   "cell_type": "code",
   "execution_count": 5,
   "metadata": {},
   "outputs": [],
   "source": [
    "date = extract_second_elements(tr_instances, 0)\n",
    "t_avg = extract_second_elements(tr_instances, 1)\n",
    "t_max = extract_second_elements(tr_instances, 2)\n",
    "t_min = extract_second_elements(tr_instances, 3)\n",
    "h_avg = extract_second_elements(tr_instances, 4)\n",
    "h_max = extract_second_elements(tr_instances, 5)\n",
    "h_min = extract_second_elements(tr_instances, 6)\n",
    "power = extract_second_elements(tr_instances, 7)"
   ]
  },
  {
   "cell_type": "code",
   "execution_count": 6,
   "metadata": {},
   "outputs": [],
   "source": [
    "new_date = []\n",
    "for i in range(len(date)):\n",
    "    new_date.append(int(date[i][5:7]))"
   ]
  },
  {
   "cell_type": "code",
   "execution_count": 7,
   "metadata": {},
   "outputs": [
    {
     "name": "stdout",
     "output_type": "stream",
     "text": [
      "365 [1, 1, 1, 1, 1, 1, 1, 1, 1, 1, 1, 1, 1, 1, 1, 1, 1, 1, 1, 1, 1, 1, 1, 1, 1, 1, 1, 1, 1, 1, 1, 2, 2, 2, 2, 2, 2, 2, 2, 2, 2, 2, 2, 2, 2, 2, 2, 2, 2, 2, 2, 2, 2, 2, 2, 2, 2, 2, 2, 3, 3, 3, 3, 3, 3, 3, 3, 3, 3, 3, 3, 3, 3, 3, 3, 3, 3, 3, 3, 3, 3, 3, 3, 3, 3, 3, 3, 3, 3, 3, 4, 4, 4, 4, 4, 4, 4, 4, 4, 4, 4, 4, 4, 4, 4, 4, 4, 4, 4, 4, 4, 4, 4, 4, 4, 4, 4, 4, 4, 4, 5, 5, 5, 5, 5, 5, 5, 5, 5, 5, 5, 5, 5, 5, 5, 5, 5, 5, 5, 5, 5, 5, 5, 5, 5, 5, 5, 5, 5, 5, 5, 6, 6, 6, 6, 6, 6, 6, 6, 6, 6, 6, 6, 6, 6, 6, 6, 6, 6, 6, 6, 6, 6, 6, 6, 6, 6, 6, 6, 6, 6, 7, 7, 7, 7, 7, 7, 7, 7, 7, 7, 7, 7, 7, 7, 7, 7, 7, 7, 7, 7, 7, 7, 7, 7, 7, 7, 7, 7, 7, 7, 7, 8, 8, 8, 8, 8, 8, 8, 8, 8, 8, 8, 8, 8, 8, 8, 8, 8, 8, 8, 8, 8, 8, 8, 8, 8, 8, 8, 8, 8, 8, 8, 9, 9, 9, 9, 9, 9, 9, 9, 9, 9, 9, 9, 9, 9, 9, 9, 9, 9, 9, 9, 9, 9, 9, 9, 9, 9, 9, 9, 9, 9, 10, 10, 10, 10, 10, 10, 10, 10, 10, 10, 10, 10, 10, 10, 10, 10, 10, 10, 10, 10, 10, 10, 10, 10, 10, 10, 10, 10, 10, 10, 10, 11, 11, 11, 11, 11, 11, 11, 11, 11, 11, 11, 11, 11, 11, 11, 11, 11, 11, 11, 11, 11, 11, 11, 11, 11, 11, 11, 11, 11, 11, 12, 12, 12, 12, 12, 12, 12, 12, 12, 12, 12, 12, 12, 12, 12, 12, 12, 12, 12, 12, 12, 12, 12, 12, 12, 12, 12, 12, 12, 12, 12]\n"
     ]
    }
   ],
   "source": [
    "print(len(new_date), new_date)"
   ]
  },
  {
   "cell_type": "code",
   "execution_count": 8,
   "metadata": {},
   "outputs": [],
   "source": [
    "list = [new_date, t_avg, t_max, t_min, h_avg, h_max, h_min, power]"
   ]
  },
  {
   "cell_type": "code",
   "execution_count": 9,
   "metadata": {},
   "outputs": [],
   "source": [
    "# Example of summarizing a dataset\n",
    "from math import sqrt\n",
    "\n",
    "# Calculate the mean of a list of numbers\n",
    "def mean(numbers):\n",
    "\treturn sum(numbers)/float(len(numbers))\n",
    "\n",
    "# Calculate the standard deviation of a list of numbers\n",
    "def stdev(numbers):\n",
    "\tavg = mean(numbers)\n",
    "\tvariance = sum([(x-avg)**2 for x in numbers]) / float(len(numbers)-1)\n",
    "\treturn sqrt(variance)\n",
    "\n",
    "# Calculate the mean, stdev and count for each column in a dataset\n",
    "def summarize_dataset(dataset):\n",
    "\tsummaries = [(mean(dataset), stdev(dataset), len(dataset))]\n",
    "\treturn summaries"
   ]
  },
  {
   "cell_type": "code",
   "execution_count": 11,
   "metadata": {},
   "outputs": [
    {
     "name": "stdout",
     "output_type": "stream",
     "text": [
      "[(6.526027397260274, 3.452584133232606, 365)]\n",
      "[(13.800684931506852, 10.490352413544045, 365)]\n",
      "[(18.255616438356164, 10.49326851025459, 365)]\n",
      "[(9.775616438356153, 10.83453130706101, 365)]\n",
      "[(65.36657534246574, 13.37963895305944, 365)]\n",
      "[(82.84657534246575, 13.01324433316555, 365)]\n",
      "[(46.983561643835614, 15.565520978232607, 365)]\n",
      "[(215.79498630137005, 59.55733043995866, 365)]\n"
     ]
    }
   ],
   "source": [
    "data_list = [new_date, t_avg, t_max, t_min, h_avg, h_max, h_min, power]\n",
    "\n",
    "for data in data_list:\n",
    "    print(summarize_dataset(data))\n"
   ]
  },
  {
   "cell_type": "code",
   "execution_count": 12,
   "metadata": {},
   "outputs": [
    {
     "data": {
      "text/plain": [
       "[(215.79498630137005, 59.55733043995866, 365)]"
      ]
     },
     "execution_count": 12,
     "metadata": {},
     "output_type": "execute_result"
    }
   ],
   "source": [
    "list = [new_date, t_avg, t_max, t_min, h_avg, h_max, h_min, power]\n",
    "summarize_dataset(new_date)\n",
    "summarize_dataset(t_avg)\n",
    "summarize_dataset(t_max)\n",
    "summarize_dataset(t_min)\n",
    "summarize_dataset(h_avg)\n",
    "summarize_dataset(h_max)\n",
    "summarize_dataset(h_min)\n",
    "summarize_dataset(power)\n",
    "\n"
   ]
  },
  {
   "cell_type": "code",
   "execution_count": null,
   "metadata": {},
   "outputs": [],
   "source": []
  }
 ],
 "metadata": {
  "kernelspec": {
   "display_name": "dasa",
   "language": "python",
   "name": "python3"
  },
  "language_info": {
   "codemirror_mode": {
    "name": "ipython",
    "version": 3
   },
   "file_extension": ".py",
   "mimetype": "text/x-python",
   "name": "python",
   "nbconvert_exporter": "python",
   "pygments_lexer": "ipython3",
   "version": "3.7.12"
  }
 },
 "nbformat": 4,
 "nbformat_minor": 2
}
